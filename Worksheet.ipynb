{
 "cells": [
  {
   "cell_type": "markdown",
   "id": "d064c315-32c1-4ad1-8253-0d7bcf92be85",
   "metadata": {},
   "source": [
    "Collect the important reusable parts of the Blue Blazes Web site, minus its specific content."
   ]
  },
  {
   "cell_type": "code",
   "execution_count": 2,
   "id": "157bd596-1502-43b9-803b-e4891507c414",
   "metadata": {},
   "outputs": [],
   "source": [
    "from configparser import ConfigParser as CP\n",
    "from os import chdir as cd\n",
    "from pathlib import Path\n",
    "from subprocess import check_output\n",
    "import xml.etree.ElementTree as ET"
   ]
  },
  {
   "cell_type": "code",
   "execution_count": 3,
   "id": "8a7b4c66-8905-4de2-b963-73d51d41e550",
   "metadata": {},
   "outputs": [],
   "source": [
    "from IPython.display import HTML"
   ]
  },
  {
   "cell_type": "code",
   "execution_count": 3,
   "id": "5356ef53-244b-47d3-b130-f93830820eb1",
   "metadata": {
    "scrolled": true,
    "tags": []
   },
   "outputs": [
    {
     "name": "stdout",
     "output_type": "stream",
     "text": [
      "Help on class HTML in module IPython.core.display:\n",
      "\n",
      "class HTML(TextDisplayObject)\n",
      " |  HTML(data=None, url=None, filename=None, metadata=None)\n",
      " |  \n",
      " |  Method resolution order:\n",
      " |      HTML\n",
      " |      TextDisplayObject\n",
      " |      DisplayObject\n",
      " |      builtins.object\n",
      " |  \n",
      " |  Methods defined here:\n",
      " |  \n",
      " |  __html__(self)\n",
      " |      This method exists to inform other HTML-using modules (e.g. Markupsafe,\n",
      " |      htmltag, etc) that this object is HTML and does not need things like\n",
      " |      special characters (<>&) escaped.\n",
      " |  \n",
      " |  __init__(self, data=None, url=None, filename=None, metadata=None)\n",
      " |      Create a display object given raw data.\n",
      " |      \n",
      " |      When this object is returned by an expression or passed to the\n",
      " |      display function, it will result in the data being displayed\n",
      " |      in the frontend. The MIME type of the data should match the\n",
      " |      subclasses used, so the Png subclass should be used for 'image/png'\n",
      " |      data. If the data is a URL, the data will first be downloaded\n",
      " |      and then displayed. If\n",
      " |      \n",
      " |      Parameters\n",
      " |      ----------\n",
      " |      data : unicode, str or bytes\n",
      " |          The raw data or a URL or file to load the data from\n",
      " |      url : unicode\n",
      " |          A URL to download the data from.\n",
      " |      filename : unicode\n",
      " |          Path to a local file to load the data from.\n",
      " |      metadata : dict\n",
      " |          Dict of metadata associated to be the object when displayed\n",
      " |  \n",
      " |  ----------------------------------------------------------------------\n",
      " |  Methods inherited from DisplayObject:\n",
      " |  \n",
      " |  __repr__(self)\n",
      " |      Return repr(self).\n",
      " |  \n",
      " |  reload(self)\n",
      " |      Reload the raw data from file or URL.\n",
      " |  \n",
      " |  ----------------------------------------------------------------------\n",
      " |  Data descriptors inherited from DisplayObject:\n",
      " |  \n",
      " |  __dict__\n",
      " |      dictionary for instance variables (if defined)\n",
      " |  \n",
      " |  __weakref__\n",
      " |      list of weak references to the object (if defined)\n",
      " |  \n",
      " |  ----------------------------------------------------------------------\n",
      " |  Data and other attributes inherited from DisplayObject:\n",
      " |  \n",
      " |  metadata = None\n",
      "\n"
     ]
    }
   ],
   "source": [
    "help(HTML)"
   ]
  },
  {
   "cell_type": "code",
   "execution_count": null,
   "id": "a009f358-f455-49e8-8608-d5d9b9f94984",
   "metadata": {},
   "outputs": [],
   "source": [
    "HTML(check_output(['python3', 'index2.py'], encoding='utf-8'))"
   ]
  },
  {
   "cell_type": "code",
   "execution_count": 8,
   "id": "4a1675ad-3b5a-463c-b817-8bc46ea5f08c",
   "metadata": {},
   "outputs": [
    {
     "data": {
      "text/html": [
       "<div id=\"contents\">\n",
       "<img class=\"center\" src=\"black-construction.jpg\" />\n",
       "</div>\n"
      ],
      "text/plain": [
       "<IPython.core.display.HTML object>"
      ]
     },
     "execution_count": 8,
     "metadata": {},
     "output_type": "execute_result"
    }
   ],
   "source": [
    "HTML(Path('home.html').read_text())"
   ]
  },
  {
   "cell_type": "code",
   "execution_count": 13,
   "id": "ba01dc73-c3b9-4936-96c2-3d4c79d5d0fa",
   "metadata": {},
   "outputs": [
    {
     "data": {
      "text/plain": [
       "WindowsPath('C:/Users/owner/PythonLab/HTMLizer')"
      ]
     },
     "execution_count": 13,
     "metadata": {},
     "output_type": "execute_result"
    }
   ],
   "source": [
    "Path.cwd()"
   ]
  },
  {
   "cell_type": "code",
   "execution_count": 12,
   "id": "a2b9436c-e25e-4ee1-ad45-3e1f135202d6",
   "metadata": {},
   "outputs": [],
   "source": [
    "cd('../HTMLizer/')"
   ]
  },
  {
   "cell_type": "code",
   "execution_count": 17,
   "id": "50f3eb9b-8367-4abb-93ff-cde05b69f741",
   "metadata": {},
   "outputs": [],
   "source": [
    "from configparser import ConfigParser"
   ]
  },
  {
   "cell_type": "code",
   "execution_count": 18,
   "id": "79c2022b-c43f-43a9-9f75-3f1864681347",
   "metadata": {},
   "outputs": [],
   "source": [
    "cp = ConfigParser()"
   ]
  },
  {
   "cell_type": "code",
   "execution_count": 23,
   "id": "3370cd37-b3fe-4b16-b5d9-f04f360201fb",
   "metadata": {},
   "outputs": [
    {
     "data": {
      "text/plain": [
       "['social.ini']"
      ]
     },
     "execution_count": 23,
     "metadata": {},
     "output_type": "execute_result"
    }
   ],
   "source": [
    "cp.read('social.ini')"
   ]
  },
  {
   "cell_type": "code",
   "execution_count": 20,
   "id": "dfceecc2-4721-4b4b-944f-13521fb905bf",
   "metadata": {},
   "outputs": [
    {
     "name": "stdout",
     "output_type": "stream",
     "text": [
      "link\n",
      "tip\n"
     ]
    }
   ],
   "source": [
    "for k in cp['FACEBOOK'].keys():\n",
    "    print(k)"
   ]
  },
  {
   "cell_type": "code",
   "execution_count": 24,
   "id": "dc878748-95ad-4e4d-a1cc-08b9a962e6a7",
   "metadata": {},
   "outputs": [
    {
     "data": {
      "text/plain": [
       "'http://www.facebook.com'"
      ]
     },
     "execution_count": 24,
     "metadata": {},
     "output_type": "execute_result"
    }
   ],
   "source": [
    "cp['FACEBOOK']['LINK']"
   ]
  },
  {
   "cell_type": "code",
   "execution_count": 7,
   "id": "a2ae0845-d4a9-43dc-8ea6-5c87af758c0c",
   "metadata": {},
   "outputs": [],
   "source": [
    "KEY='about'.upper()\n",
    "# page.html supplies the outer shell for the HTML page output\n",
    "tree = ET.parse('page.html')\n",
    "html = tree.getroot() # HTML element\n",
    "\n",
    "# if __debug__:\n",
    "#     log(\"Root element of page.html:\")\n",
    "#     log(\"\")\n",
    "#     log(ET.tostring(html, encoding='unicode', method='html'))\n",
    "\n",
    "head = html.find('head')\n",
    "body = html.find('body')\n",
    "title = head.find('title')\n",
    "cp = CP()\n",
    "cp.read('metas.ini')\n",
    "title.text = cp[KEY]['TITLE']\n"
   ]
  },
  {
   "cell_type": "code",
   "execution_count": 8,
   "id": "d8cd2af8-aaad-4196-8d13-4cd25c9276dd",
   "metadata": {},
   "outputs": [
    {
     "data": {
      "text/plain": [
       "'About this Web page.'"
      ]
     },
     "execution_count": 8,
     "metadata": {},
     "output_type": "execute_result"
    }
   ],
   "source": [
    "title.text"
   ]
  }
 ],
 "metadata": {
  "kernelspec": {
   "display_name": "Py311",
   "language": "python",
   "name": "py311"
  },
  "language_info": {
   "codemirror_mode": {
    "name": "ipython",
    "version": 3
   },
   "file_extension": ".py",
   "mimetype": "text/x-python",
   "name": "python",
   "nbconvert_exporter": "python",
   "pygments_lexer": "ipython3",
   "version": "3.11.1"
  }
 },
 "nbformat": 4,
 "nbformat_minor": 5
}
